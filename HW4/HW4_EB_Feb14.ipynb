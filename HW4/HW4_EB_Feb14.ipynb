{
 "cells": [
  {
   "cell_type": "markdown",
   "metadata": {},
   "source": [
    "# Homework 4: Group 1\n",
    "#### Linear Regression (NYC + Boston) "
   ]
  },
  {
   "cell_type": "markdown",
   "metadata": {},
   "source": [
    "#### David Jung, Ryan Voges, Emily Blake, Spencer Powell, Abraham Alhomadi"
   ]
  },
  {
   "cell_type": "code",
   "execution_count": 1,
   "metadata": {},
   "outputs": [],
   "source": [
    "import numpy as np\n",
    "import pandas as pd\n",
    "import matplotlib.pyplot as plt\n",
    "import seaborn as sns\n",
    "import math\n",
    "from sklearn.linear_model import LinearRegression"
   ]
  },
  {
   "cell_type": "code",
   "execution_count": 2,
   "metadata": {},
   "outputs": [],
   "source": [
    "nyc = pd.read_csv(\"nyc-rolling-sales_clean.csv\", sep=\",\")"
   ]
  },
  {
   "cell_type": "code",
   "execution_count": 3,
   "metadata": {},
   "outputs": [],
   "source": [
    "rand_state= 1000"
   ]
  },
  {
   "cell_type": "markdown",
   "metadata": {},
   "source": [
    "- 1. Change the type of the feature variables as you see fit!"
   ]
  },
  {
   "cell_type": "code",
   "execution_count": 4,
   "metadata": {},
   "outputs": [
    {
     "name": "stdout",
     "output_type": "stream",
     "text": [
      "<class 'pandas.core.frame.DataFrame'>\n",
      "RangeIndex: 30236 entries, 0 to 30235\n",
      "Data columns (total 18 columns):\n",
      " #   Column                          Non-Null Count  Dtype  \n",
      "---  ------                          --------------  -----  \n",
      " 0   BOROUGH                         30236 non-null  object \n",
      " 1   NEIGHBORHOOD                    30236 non-null  object \n",
      " 2   BUILDING CLASS CATEGORY         30236 non-null  object \n",
      " 3   TAX CLASS AT PRESENT            30236 non-null  object \n",
      " 4   BUILDING CLASS AT PRESENT       30236 non-null  object \n",
      " 5   ZIP CODE                        30236 non-null  int64  \n",
      " 6   RESIDENTIAL UNITS               30236 non-null  int64  \n",
      " 7   COMMERCIAL UNITS                30236 non-null  int64  \n",
      " 8   TOTAL UNITS                     30236 non-null  int64  \n",
      " 9   LAND SQUARE FEET                30236 non-null  float64\n",
      " 10  GROSS SQUARE FEET               30236 non-null  float64\n",
      " 11  YEAR BUILT                      30236 non-null  int64  \n",
      " 12  TAX CLASS AT TIME OF SALE       30236 non-null  int64  \n",
      " 13  BUILDING CLASS AT TIME OF SALE  30236 non-null  object \n",
      " 14  SALE PRICE                      30236 non-null  float64\n",
      " 15  SALE DATE                       30236 non-null  object \n",
      " 16  sale_year                       30236 non-null  int64  \n",
      " 17  sale_month                      30236 non-null  int64  \n",
      "dtypes: float64(3), int64(8), object(7)\n",
      "memory usage: 4.2+ MB\n"
     ]
    }
   ],
   "source": [
    "# Looking at the data to see if any feature variables need to be changed\n",
    "nyc.info()"
   ]
  },
  {
   "cell_type": "code",
   "execution_count": 5,
   "metadata": {},
   "outputs": [
    {
     "name": "stdout",
     "output_type": "stream",
     "text": [
      "BOROUGH 5\n",
      "NEIGHBORHOOD 242\n",
      "BUILDING CLASS CATEGORY 38\n",
      "TAX CLASS AT PRESENT 9\n",
      "BUILDING CLASS AT PRESENT 115\n",
      "ZIP CODE 171\n",
      "RESIDENTIAL UNITS 72\n",
      "COMMERCIAL UNITS 20\n",
      "TOTAL UNITS 74\n",
      "LAND SQUARE FEET 4105\n",
      "GROSS SQUARE FEET 3589\n",
      "YEAR BUILT 137\n",
      "TAX CLASS AT TIME OF SALE 3\n",
      "BUILDING CLASS AT TIME OF SALE 115\n",
      "SALE PRICE 4848\n",
      "SALE DATE 327\n",
      "sale_year 2\n",
      "sale_month 12\n"
     ]
    }
   ],
   "source": [
    "for col in nyc.columns:\n",
    "    print(col, nyc[col].nunique())"
   ]
  },
  {
   "cell_type": "code",
   "execution_count": 6,
   "metadata": {},
   "outputs": [],
   "source": [
    "# Changing variables to categorical\n",
    "categorical = [\"BOROUGH\", \"NEIGHBORHOOD\", \"BUILDING CLASS CATEGORY\", \"TAX CLASS AT PRESENT\"]"
   ]
  },
  {
   "cell_type": "code",
   "execution_count": 7,
   "metadata": {},
   "outputs": [
    {
     "name": "stdout",
     "output_type": "stream",
     "text": [
      "['BOROUGH', 'NEIGHBORHOOD', 'BUILDING CLASS CATEGORY', 'TAX CLASS AT PRESENT', 'BUILDING CLASS AT PRESENT', 'ZIP CODE', 'YEAR BUILT', 'TAX CLASS AT TIME OF SALE', 'BUILDING CLASS AT TIME OF SALE', 'sale_year', 'sale_month']\n"
     ]
    }
   ],
   "source": [
    "categoricals = list(nyc.drop(['RESIDENTIAL UNITS', 'COMMERCIAL UNITS', 'TOTAL UNITS', 'LAND SQUARE FEET', 'GROSS SQUARE FEET', 'SALE PRICE', 'SALE DATE'], axis=1).columns)\n",
    "print(categoricals)       "
   ]
  },
  {
   "cell_type": "code",
   "execution_count": 8,
   "metadata": {},
   "outputs": [],
   "source": [
    "nyc['SALE DATE'] = pd.to_datetime(nyc['SALE DATE'], errors='coerce')"
   ]
  },
  {
   "cell_type": "code",
   "execution_count": 9,
   "metadata": {},
   "outputs": [
    {
     "data": {
      "text/html": [
       "<div>\n",
       "<style scoped>\n",
       "    .dataframe tbody tr th:only-of-type {\n",
       "        vertical-align: middle;\n",
       "    }\n",
       "\n",
       "    .dataframe tbody tr th {\n",
       "        vertical-align: top;\n",
       "    }\n",
       "\n",
       "    .dataframe thead th {\n",
       "        text-align: right;\n",
       "    }\n",
       "</style>\n",
       "<table border=\"1\" class=\"dataframe\">\n",
       "  <thead>\n",
       "    <tr style=\"text-align: right;\">\n",
       "      <th>sale_year</th>\n",
       "      <th>2016</th>\n",
       "      <th>2017</th>\n",
       "    </tr>\n",
       "    <tr>\n",
       "      <th>sale_month</th>\n",
       "      <th></th>\n",
       "      <th></th>\n",
       "    </tr>\n",
       "  </thead>\n",
       "  <tbody>\n",
       "    <tr>\n",
       "      <th>1</th>\n",
       "      <td>0</td>\n",
       "      <td>2432</td>\n",
       "    </tr>\n",
       "    <tr>\n",
       "      <th>2</th>\n",
       "      <td>0</td>\n",
       "      <td>2323</td>\n",
       "    </tr>\n",
       "    <tr>\n",
       "      <th>3</th>\n",
       "      <td>0</td>\n",
       "      <td>2782</td>\n",
       "    </tr>\n",
       "    <tr>\n",
       "      <th>4</th>\n",
       "      <td>0</td>\n",
       "      <td>2344</td>\n",
       "    </tr>\n",
       "    <tr>\n",
       "      <th>5</th>\n",
       "      <td>0</td>\n",
       "      <td>2565</td>\n",
       "    </tr>\n",
       "    <tr>\n",
       "      <th>6</th>\n",
       "      <td>0</td>\n",
       "      <td>2931</td>\n",
       "    </tr>\n",
       "    <tr>\n",
       "      <th>7</th>\n",
       "      <td>0</td>\n",
       "      <td>2328</td>\n",
       "    </tr>\n",
       "    <tr>\n",
       "      <th>8</th>\n",
       "      <td>0</td>\n",
       "      <td>1937</td>\n",
       "    </tr>\n",
       "    <tr>\n",
       "      <th>9</th>\n",
       "      <td>2807</td>\n",
       "      <td>0</td>\n",
       "    </tr>\n",
       "    <tr>\n",
       "      <th>10</th>\n",
       "      <td>2373</td>\n",
       "      <td>0</td>\n",
       "    </tr>\n",
       "    <tr>\n",
       "      <th>11</th>\n",
       "      <td>2545</td>\n",
       "      <td>0</td>\n",
       "    </tr>\n",
       "    <tr>\n",
       "      <th>12</th>\n",
       "      <td>2869</td>\n",
       "      <td>0</td>\n",
       "    </tr>\n",
       "  </tbody>\n",
       "</table>\n",
       "</div>"
      ],
      "text/plain": [
       "sale_year   2016  2017\n",
       "sale_month            \n",
       "1              0  2432\n",
       "2              0  2323\n",
       "3              0  2782\n",
       "4              0  2344\n",
       "5              0  2565\n",
       "6              0  2931\n",
       "7              0  2328\n",
       "8              0  1937\n",
       "9           2807     0\n",
       "10          2373     0\n",
       "11          2545     0\n",
       "12          2869     0"
      ]
     },
     "execution_count": 9,
     "metadata": {},
     "output_type": "execute_result"
    }
   ],
   "source": [
    "nyc['sale_year'] = pd.DatetimeIndex(nyc['SALE DATE']).year.astype(\"category\")\n",
    "nyc['sale_month'] = pd.DatetimeIndex(nyc['SALE DATE']).month.astype(\"category\")\n",
    "pd.crosstab(nyc['sale_month'], nyc['sale_year'])"
   ]
  },
  {
   "cell_type": "code",
   "execution_count": 10,
   "metadata": {},
   "outputs": [],
   "source": [
    "for col in categoricals:\n",
    "    nyc[col]=nyc[col].astype(\"category\")"
   ]
  },
  {
   "cell_type": "code",
   "execution_count": 11,
   "metadata": {},
   "outputs": [
    {
     "name": "stdout",
     "output_type": "stream",
     "text": [
      "<class 'pandas.core.frame.DataFrame'>\n",
      "RangeIndex: 30236 entries, 0 to 30235\n",
      "Data columns (total 18 columns):\n",
      " #   Column                          Non-Null Count  Dtype         \n",
      "---  ------                          --------------  -----         \n",
      " 0   BOROUGH                         30236 non-null  category      \n",
      " 1   NEIGHBORHOOD                    30236 non-null  category      \n",
      " 2   BUILDING CLASS CATEGORY         30236 non-null  category      \n",
      " 3   TAX CLASS AT PRESENT            30236 non-null  category      \n",
      " 4   BUILDING CLASS AT PRESENT       30236 non-null  category      \n",
      " 5   ZIP CODE                        30236 non-null  category      \n",
      " 6   RESIDENTIAL UNITS               30236 non-null  int64         \n",
      " 7   COMMERCIAL UNITS                30236 non-null  int64         \n",
      " 8   TOTAL UNITS                     30236 non-null  int64         \n",
      " 9   LAND SQUARE FEET                30236 non-null  float64       \n",
      " 10  GROSS SQUARE FEET               30236 non-null  float64       \n",
      " 11  YEAR BUILT                      30236 non-null  category      \n",
      " 12  TAX CLASS AT TIME OF SALE       30236 non-null  category      \n",
      " 13  BUILDING CLASS AT TIME OF SALE  30236 non-null  category      \n",
      " 14  SALE PRICE                      30236 non-null  float64       \n",
      " 15  SALE DATE                       30236 non-null  datetime64[ns]\n",
      " 16  sale_year                       30236 non-null  category      \n",
      " 17  sale_month                      30236 non-null  category      \n",
      "dtypes: category(11), datetime64[ns](1), float64(3), int64(3)\n",
      "memory usage: 2.1 MB\n"
     ]
    }
   ],
   "source": [
    "nyc.info()"
   ]
  },
  {
   "cell_type": "markdown",
   "metadata": {},
   "source": [
    "2. Define your target variable as target= log(SALE PRICE) and add it to your data\n",
    "frame. Explain why this transformation would boost the performance of your\n",
    "linear model?"
   ]
  },
  {
   "cell_type": "code",
   "execution_count": 12,
   "metadata": {},
   "outputs": [],
   "source": [
    "nyc[\"LOG(SALE PRICE)\"]= np.log(nyc[\"SALE PRICE\"])\n"
   ]
  },
  {
   "cell_type": "code",
   "execution_count": 13,
   "metadata": {},
   "outputs": [
    {
     "name": "stderr",
     "output_type": "stream",
     "text": [
      "/Users/emilyblake/opt/anaconda3/lib/python3.8/site-packages/seaborn/distributions.py:2551: FutureWarning: `distplot` is a deprecated function and will be removed in a future version. Please adapt your code to use either `displot` (a figure-level function with similar flexibility) or `histplot` (an axes-level function for histograms).\n",
      "  warnings.warn(msg, FutureWarning)\n"
     ]
    },
    {
     "data": {
      "text/plain": [
       "<AxesSubplot:xlabel='SALE PRICE', ylabel='Density'>"
      ]
     },
     "execution_count": 13,
     "metadata": {},
     "output_type": "execute_result"
    },
    {
     "data": {
      "image/png": "[encoded data removed]",
      "text/plain": [
       "<Figure size 432x288 with 1 Axes>"
      ]
     },
     "metadata": {
      "needs_background": "light"
     },
     "output_type": "display_data"
    }
   ],
   "source": [
    "sns.distplot(nyc[\"SALE PRICE\"])"
   ]
  },
  {
   "cell_type": "code",
   "execution_count": 14,
   "metadata": {},
   "outputs": [
    {
     "name": "stderr",
     "output_type": "stream",
     "text": [
      "/Users/emilyblake/opt/anaconda3/lib/python3.8/site-packages/seaborn/distributions.py:2551: FutureWarning: `distplot` is a deprecated function and will be removed in a future version. Please adapt your code to use either `displot` (a figure-level function with similar flexibility) or `histplot` (an axes-level function for histograms).\n",
      "  warnings.warn(msg, FutureWarning)\n"
     ]
    },
    {
     "data": {
      "text/plain": [
       "<AxesSubplot:xlabel='LOG(SALE PRICE)', ylabel='Density'>"
      ]
     },
     "execution_count": 14,
     "metadata": {},
     "output_type": "execute_result"
    },
    {
     "data": {
      "image/png": "[encoded data removed]",
      "text/plain": [
       "<Figure size 432x288 with 1 Axes>"
      ]
     },
     "metadata": {
      "needs_background": "light"
     },
     "output_type": "display_data"
    }
   ],
   "source": [
    "sns.distplot(nyc[\"LOG(SALE PRICE)\"])"
   ]
  },
  {
   "cell_type": "markdown",
   "metadata": {},
   "source": [
    "- The log transformation of \"SALE PRICE\" fixed for some of the skewedness in the orginal data. Our linear model will now be a better fit. "
   ]
  },
  {
   "cell_type": "markdown",
   "metadata": {},
   "source": [
    "3. Define your feature space (X). You can pick as many features as possible! it's your call!"
   ]
  },
  {
   "cell_type": "code",
   "execution_count": 15,
   "metadata": {},
   "outputs": [],
   "source": [
    "# Defining LOG(SALE PRICE) as y variable and dropping redundant variables for our x variable\n",
    "y = nyc['LOG(SALE PRICE)']\n",
    "X = nyc.drop(['LOG(SALE PRICE)', 'ZIP CODE', 'BUILDING CLASS CATEGORY','TAX CLASS AT PRESENT','BUILDING CLASS AT PRESENT', 'RESIDENTIAL UNITS', 'COMMERCIAL UNITS','TAX CLASS AT TIME OF SALE', 'BUILDING CLASS AT TIME OF SALE','SALE DATE'], axis=1)"
   ]
  },
  {
   "cell_type": "markdown",
   "metadata": {},
   "source": [
    "4. Use get dummies( drop_first=True ) function from pandas package to make the\n",
    "categorical variables into dummy variables. How many features you have now?\n",
    "wow! welcome to Machine Learning."
   ]
  },
  {
   "cell_type": "code",
   "execution_count": 16,
   "metadata": {},
   "outputs": [],
   "source": [
    "X1 = pd.get_dummies(X, drop_first=True)"
   ]
  },
  {
   "cell_type": "code",
   "execution_count": 17,
   "metadata": {},
   "outputs": [
    {
     "name": "stdout",
     "output_type": "stream",
     "text": [
      "<class 'pandas.core.frame.DataFrame'>\n",
      "RangeIndex: 30236 entries, 0 to 30235\n",
      "Columns: 397 entries, TOTAL UNITS to sale_month_12\n",
      "dtypes: float64(3), int64(1), uint8(393)\n",
      "memory usage: 12.3 MB\n"
     ]
    }
   ],
   "source": [
    "X1.info()"
   ]
  },
  {
   "cell_type": "markdown",
   "metadata": {},
   "source": [
    "5. Split the data into test (30%) and train set (70%)"
   ]
  },
  {
   "cell_type": "code",
   "execution_count": 18,
   "metadata": {},
   "outputs": [
    {
     "data": {
      "text/plain": [
       "0.7"
      ]
     },
     "execution_count": 18,
     "metadata": {},
     "output_type": "execute_result"
    }
   ],
   "source": [
    "from sklearn.model_selection import train_test_split\n",
    "\n",
    "X1_train, X_test, y_train, y_test = train_test_split(X1, y, test_size=0.3, random_state=rand_state)\n",
    "\n",
    "\n",
    "np.round(len(X1_train)/len(X),3)"
   ]
  },
  {
   "cell_type": "code",
   "execution_count": 19,
   "metadata": {},
   "outputs": [
    {
     "data": {
      "text/html": [
       "<div>\n",
       "<style scoped>\n",
       "    .dataframe tbody tr th:only-of-type {\n",
       "        vertical-align: middle;\n",
       "    }\n",
       "\n",
       "    .dataframe tbody tr th {\n",
       "        vertical-align: top;\n",
       "    }\n",
       "\n",
       "    .dataframe thead th {\n",
       "        text-align: right;\n",
       "    }\n",
       "</style>\n",
       "<table border=\"1\" class=\"dataframe\">\n",
       "  <thead>\n",
       "    <tr style=\"text-align: right;\">\n",
       "      <th></th>\n",
       "      <th>TOTAL UNITS</th>\n",
       "      <th>LAND SQUARE FEET</th>\n",
       "      <th>GROSS SQUARE FEET</th>\n",
       "      <th>SALE PRICE</th>\n",
       "      <th>BOROUGH_Brooklyn</th>\n",
       "      <th>BOROUGH_Manhattan</th>\n",
       "      <th>BOROUGH_Queens</th>\n",
       "      <th>BOROUGH_Staten Island</th>\n",
       "      <th>NEIGHBORHOOD_ALPHABET CITY</th>\n",
       "      <th>NEIGHBORHOOD_ANNADALE</th>\n",
       "      <th>...</th>\n",
       "      <th>sale_month_3</th>\n",
       "      <th>sale_month_4</th>\n",
       "      <th>sale_month_5</th>\n",
       "      <th>sale_month_6</th>\n",
       "      <th>sale_month_7</th>\n",
       "      <th>sale_month_8</th>\n",
       "      <th>sale_month_9</th>\n",
       "      <th>sale_month_10</th>\n",
       "      <th>sale_month_11</th>\n",
       "      <th>sale_month_12</th>\n",
       "    </tr>\n",
       "  </thead>\n",
       "  <tbody>\n",
       "    <tr>\n",
       "      <th>27919</th>\n",
       "      <td>1</td>\n",
       "      <td>4000.0</td>\n",
       "      <td>1105.0</td>\n",
       "      <td>480000.0</td>\n",
       "      <td>0</td>\n",
       "      <td>0</td>\n",
       "      <td>0</td>\n",
       "      <td>1</td>\n",
       "      <td>0</td>\n",
       "      <td>0</td>\n",
       "      <td>...</td>\n",
       "      <td>0</td>\n",
       "      <td>0</td>\n",
       "      <td>0</td>\n",
       "      <td>0</td>\n",
       "      <td>0</td>\n",
       "      <td>0</td>\n",
       "      <td>0</td>\n",
       "      <td>0</td>\n",
       "      <td>0</td>\n",
       "      <td>0</td>\n",
       "    </tr>\n",
       "    <tr>\n",
       "      <th>26034</th>\n",
       "      <td>1</td>\n",
       "      <td>3918.0</td>\n",
       "      <td>1700.0</td>\n",
       "      <td>760000.0</td>\n",
       "      <td>0</td>\n",
       "      <td>0</td>\n",
       "      <td>0</td>\n",
       "      <td>1</td>\n",
       "      <td>0</td>\n",
       "      <td>0</td>\n",
       "      <td>...</td>\n",
       "      <td>0</td>\n",
       "      <td>0</td>\n",
       "      <td>0</td>\n",
       "      <td>0</td>\n",
       "      <td>0</td>\n",
       "      <td>0</td>\n",
       "      <td>1</td>\n",
       "      <td>0</td>\n",
       "      <td>0</td>\n",
       "      <td>0</td>\n",
       "    </tr>\n",
       "    <tr>\n",
       "      <th>27154</th>\n",
       "      <td>2</td>\n",
       "      <td>4000.0</td>\n",
       "      <td>2012.0</td>\n",
       "      <td>780000.0</td>\n",
       "      <td>0</td>\n",
       "      <td>0</td>\n",
       "      <td>0</td>\n",
       "      <td>1</td>\n",
       "      <td>0</td>\n",
       "      <td>0</td>\n",
       "      <td>...</td>\n",
       "      <td>0</td>\n",
       "      <td>0</td>\n",
       "      <td>0</td>\n",
       "      <td>1</td>\n",
       "      <td>0</td>\n",
       "      <td>0</td>\n",
       "      <td>0</td>\n",
       "      <td>0</td>\n",
       "      <td>0</td>\n",
       "      <td>0</td>\n",
       "    </tr>\n",
       "    <tr>\n",
       "      <th>13684</th>\n",
       "      <td>2</td>\n",
       "      <td>2003.0</td>\n",
       "      <td>2532.0</td>\n",
       "      <td>1140000.0</td>\n",
       "      <td>1</td>\n",
       "      <td>0</td>\n",
       "      <td>0</td>\n",
       "      <td>0</td>\n",
       "      <td>0</td>\n",
       "      <td>0</td>\n",
       "      <td>...</td>\n",
       "      <td>0</td>\n",
       "      <td>0</td>\n",
       "      <td>0</td>\n",
       "      <td>1</td>\n",
       "      <td>0</td>\n",
       "      <td>0</td>\n",
       "      <td>0</td>\n",
       "      <td>0</td>\n",
       "      <td>0</td>\n",
       "      <td>0</td>\n",
       "    </tr>\n",
       "    <tr>\n",
       "      <th>28389</th>\n",
       "      <td>1</td>\n",
       "      <td>2938.0</td>\n",
       "      <td>1632.0</td>\n",
       "      <td>600000.0</td>\n",
       "      <td>0</td>\n",
       "      <td>0</td>\n",
       "      <td>0</td>\n",
       "      <td>1</td>\n",
       "      <td>0</td>\n",
       "      <td>0</td>\n",
       "      <td>...</td>\n",
       "      <td>1</td>\n",
       "      <td>0</td>\n",
       "      <td>0</td>\n",
       "      <td>0</td>\n",
       "      <td>0</td>\n",
       "      <td>0</td>\n",
       "      <td>0</td>\n",
       "      <td>0</td>\n",
       "      <td>0</td>\n",
       "      <td>0</td>\n",
       "    </tr>\n",
       "  </tbody>\n",
       "</table>\n",
       "<p>5 rows × 397 columns</p>\n",
       "</div>"
      ],
      "text/plain": [
       "       TOTAL UNITS  LAND SQUARE FEET  GROSS SQUARE FEET  SALE PRICE  \\\n",
       "27919            1            4000.0             1105.0    480000.0   \n",
       "26034            1            3918.0             1700.0    760000.0   \n",
       "27154            2            4000.0             2012.0    780000.0   \n",
       "13684            2            2003.0             2532.0   1140000.0   \n",
       "28389            1            2938.0             1632.0    600000.0   \n",
       "\n",
       "       BOROUGH_Brooklyn  BOROUGH_Manhattan  BOROUGH_Queens  \\\n",
       "27919                 0                  0               0   \n",
       "26034                 0                  0               0   \n",
       "27154                 0                  0               0   \n",
       "13684                 1                  0               0   \n",
       "28389                 0                  0               0   \n",
       "\n",
       "       BOROUGH_Staten Island  NEIGHBORHOOD_ALPHABET CITY  \\\n",
       "27919                      1                           0   \n",
       "26034                      1                           0   \n",
       "27154                      1                           0   \n",
       "13684                      0                           0   \n",
       "28389                      1                           0   \n",
       "\n",
       "       NEIGHBORHOOD_ANNADALE  ...  sale_month_3  sale_month_4  sale_month_5  \\\n",
       "27919                      0  ...             0             0             0   \n",
       "26034                      0  ...             0             0             0   \n",
       "27154                      0  ...             0             0             0   \n",
       "13684                      0  ...             0             0             0   \n",
       "28389                      0  ...             1             0             0   \n",
       "\n",
       "       sale_month_6  sale_month_7  sale_month_8  sale_month_9  sale_month_10  \\\n",
       "27919             0             0             0             0              0   \n",
       "26034             0             0             0             1              0   \n",
       "27154             1             0             0             0              0   \n",
       "13684             1             0             0             0              0   \n",
       "28389             0             0             0             0              0   \n",
       "\n",
       "       sale_month_11  sale_month_12  \n",
       "27919              0              0  \n",
       "26034              0              0  \n",
       "27154              0              0  \n",
       "13684              0              0  \n",
       "28389              0              0  \n",
       "\n",
       "[5 rows x 397 columns]"
      ]
     },
     "execution_count": 19,
     "metadata": {},
     "output_type": "execute_result"
    }
   ],
   "source": [
    "X1_train.head()"
   ]
  },
  {
   "cell_type": "markdown",
   "metadata": {},
   "source": [
    "6. Use LinearRegression() model from Sklearn package to train the model. Do the\n",
    "followings: (15 points)\n",
    "    1. Save the predicted values for the test set in y hat test. (5 points)\n",
    "    2. Construct a data frame named log predictions which has 3 columns: y test, y hat test , resid.(5 points)\n",
    "    3. Report the RMSE test (RMSE in the test set) (5 points)"
   ]
  },
  {
   "cell_type": "code",
   "execution_count": 20,
   "metadata": {},
   "outputs": [],
   "source": [
    "nyc_model = LinearRegression()"
   ]
  },
  {
   "cell_type": "code",
   "execution_count": 21,
   "metadata": {},
   "outputs": [
    {
     "data": {
      "text/plain": [
       "LinearRegression()"
      ]
     },
     "execution_count": 21,
     "metadata": {},
     "output_type": "execute_result"
    }
   ],
   "source": [
    "nyc_model.fit(X1_train, y_train)"
   ]
  },
  {
   "cell_type": "code",
   "execution_count": 22,
   "metadata": {},
   "outputs": [],
   "source": [
    "y_hat_test = nyc_model.predict(X_test)"
   ]
  },
  {
   "cell_type": "code",
   "execution_count": 23,
   "metadata": {},
   "outputs": [
    {
     "data": {
      "text/html": [
       "<div>\n",
       "<style scoped>\n",
       "    .dataframe tbody tr th:only-of-type {\n",
       "        vertical-align: middle;\n",
       "    }\n",
       "\n",
       "    .dataframe tbody tr th {\n",
       "        vertical-align: top;\n",
       "    }\n",
       "\n",
       "    .dataframe thead th {\n",
       "        text-align: right;\n",
       "    }\n",
       "</style>\n",
       "<table border=\"1\" class=\"dataframe\">\n",
       "  <thead>\n",
       "    <tr style=\"text-align: right;\">\n",
       "      <th></th>\n",
       "      <th>actuals</th>\n",
       "      <th>predictions</th>\n",
       "      <th>resid</th>\n",
       "    </tr>\n",
       "  </thead>\n",
       "  <tbody>\n",
       "    <tr>\n",
       "      <th>3767</th>\n",
       "      <td>14.077875</td>\n",
       "      <td>13.994780</td>\n",
       "      <td>0.083095</td>\n",
       "    </tr>\n",
       "    <tr>\n",
       "      <th>24270</th>\n",
       "      <td>13.199324</td>\n",
       "      <td>13.028527</td>\n",
       "      <td>0.170797</td>\n",
       "    </tr>\n",
       "    <tr>\n",
       "      <th>27718</th>\n",
       "      <td>13.384728</td>\n",
       "      <td>13.106505</td>\n",
       "      <td>0.278223</td>\n",
       "    </tr>\n",
       "    <tr>\n",
       "      <th>6232</th>\n",
       "      <td>12.873902</td>\n",
       "      <td>12.901989</td>\n",
       "      <td>-0.028087</td>\n",
       "    </tr>\n",
       "    <tr>\n",
       "      <th>11161</th>\n",
       "      <td>13.710150</td>\n",
       "      <td>13.603800</td>\n",
       "      <td>0.106350</td>\n",
       "    </tr>\n",
       "  </tbody>\n",
       "</table>\n",
       "</div>"
      ],
      "text/plain": [
       "         actuals  predictions     resid\n",
       "3767   14.077875    13.994780  0.083095\n",
       "24270  13.199324    13.028527  0.170797\n",
       "27718  13.384728    13.106505  0.278223\n",
       "6232   12.873902    12.901989 -0.028087\n",
       "11161  13.710150    13.603800  0.106350"
      ]
     },
     "execution_count": 23,
     "metadata": {},
     "output_type": "execute_result"
    }
   ],
   "source": [
    "nyc_predictions = pd.DataFrame({'actuals':y_test, 'predictions':y_hat_test, 'resid': y_test - y_hat_test})\n",
    "nyc_predictions.head()"
   ]
  },
  {
   "cell_type": "code",
   "execution_count": 24,
   "metadata": {},
   "outputs": [
    {
     "data": {
      "text/plain": [
       "0.128"
      ]
     },
     "execution_count": 24,
     "metadata": {},
     "output_type": "execute_result"
    }
   ],
   "source": [
    "MSE_test = np.mean(np.square(nyc_predictions['resid']))\n",
    "np.round(MSE_test,3)"
   ]
  },
  {
   "cell_type": "code",
   "execution_count": 25,
   "metadata": {},
   "outputs": [
    {
     "data": {
      "text/plain": [
       "0.358"
      ]
     },
     "execution_count": 25,
     "metadata": {},
     "output_type": "execute_result"
    }
   ],
   "source": [
    "RMSE_test = np.sqrt(MSE_test)\n",
    "np.round(RMSE_test,3)"
   ]
  },
  {
   "cell_type": "markdown",
   "metadata": {},
   "source": [
    "7. Estimate the RMSE test using K-Fold Cross Validation technique (try K=5 and\n",
    "K=10) and name them as RMSE CV5 and RMSE CV10. (15 points)"
   ]
  },
  {
   "cell_type": "code",
   "execution_count": 26,
   "metadata": {},
   "outputs": [],
   "source": [
    "from sklearn.model_selection import cross_val_score\n",
    "import sklearn.metrics"
   ]
  },
  {
   "cell_type": "code",
   "execution_count": 27,
   "metadata": {},
   "outputs": [],
   "source": [
    "my_estimator = LinearRegression()"
   ]
  },
  {
   "cell_type": "code",
   "execution_count": 28,
   "metadata": {},
   "outputs": [],
   "source": [
    "NMSE10 = cross_val_score(estimator=my_estimator, X=X1_train, y=y_train, cv=10, scoring=\"neg_mean_squared_error\")"
   ]
  },
  {
   "cell_type": "code",
   "execution_count": 32,
   "metadata": {},
   "outputs": [
    {
     "data": {
      "text/plain": [
       "array([0.15071831, 0.14208018, 0.10913259, 0.20613984, 0.13612341,\n",
       "       0.1432074 , 0.11795218, 0.12308638, 0.12012878, 0.11703645])"
      ]
     },
     "execution_count": 32,
     "metadata": {},
     "output_type": "execute_result"
    }
   ],
   "source": [
    "MSE10= -NMSE10\n",
    "MSE10"
   ]
  },
  {
   "cell_type": "code",
   "execution_count": 33,
   "metadata": {},
   "outputs": [
    {
     "data": {
      "text/plain": [
       "0.137"
      ]
     },
     "execution_count": 33,
     "metadata": {},
     "output_type": "execute_result"
    }
   ],
   "source": [
    "MSE_CV10 = np.mean(MSE10)\n",
    "np.round(MSE_CV10,3)"
   ]
  },
  {
   "cell_type": "code",
   "execution_count": 34,
   "metadata": {},
   "outputs": [
    {
     "data": {
      "text/plain": [
       "array([0.38822456, 0.37693524, 0.33035222, 0.45402626, 0.36894906,\n",
       "       0.37842754, 0.34344167, 0.35083668, 0.34659599, 0.3421059 ])"
      ]
     },
     "execution_count": 34,
     "metadata": {},
     "output_type": "execute_result"
    }
   ],
   "source": [
    "RMSE10 = np.sqrt(MSE10)\n",
    "RMSE10"
   ]
  },
  {
   "cell_type": "code",
   "execution_count": 35,
   "metadata": {},
   "outputs": [
    {
     "data": {
      "text/plain": [
       "0.368"
      ]
     },
     "execution_count": 35,
     "metadata": {},
     "output_type": "execute_result"
    }
   ],
   "source": [
    "RMSE_CV10 = np.mean(RMSE10)\n",
    "np.round(RMSE_CV10,3)"
   ]
  },
  {
   "cell_type": "code",
   "execution_count": 36,
   "metadata": {},
   "outputs": [],
   "source": [
    "NMSE5 = cross_val_score(estimator=my_estimator, X=X1_train, y=y_train, cv=5, scoring=\"neg_mean_squared_error\")"
   ]
  },
  {
   "cell_type": "code",
   "execution_count": 37,
   "metadata": {},
   "outputs": [
    {
     "data": {
      "text/plain": [
       "array([0.14671203, 0.16035018, 0.13891423, 0.12167686, 0.11897507])"
      ]
     },
     "execution_count": 37,
     "metadata": {},
     "output_type": "execute_result"
    }
   ],
   "source": [
    "MSE5= -NMSE5\n",
    "MSE5"
   ]
  },
  {
   "cell_type": "code",
   "execution_count": 38,
   "metadata": {},
   "outputs": [
    {
     "data": {
      "text/plain": [
       "0.137"
      ]
     },
     "execution_count": 38,
     "metadata": {},
     "output_type": "execute_result"
    }
   ],
   "source": [
    "MSE_CV5 = np.mean(MSE5)\n",
    "np.round(MSE_CV5,3)"
   ]
  },
  {
   "cell_type": "code",
   "execution_count": 39,
   "metadata": {},
   "outputs": [
    {
     "data": {
      "text/plain": [
       "array([0.38303006, 0.40043749, 0.37271199, 0.3488221 , 0.34492762])"
      ]
     },
     "execution_count": 39,
     "metadata": {},
     "output_type": "execute_result"
    }
   ],
   "source": [
    "RMSE5 = np.sqrt(MSE5)\n",
    "RMSE5"
   ]
  },
  {
   "cell_type": "code",
   "execution_count": 40,
   "metadata": {},
   "outputs": [
    {
     "data": {
      "text/plain": [
       "0.37"
      ]
     },
     "execution_count": 40,
     "metadata": {},
     "output_type": "execute_result"
    }
   ],
   "source": [
    "RMSE_CV5 = np.mean(RMSE5)\n",
    "np.round(RMSE_CV5,3)"
   ]
  },
  {
   "cell_type": "markdown",
   "metadata": {},
   "source": [
    "8. Compare RMSE CV with RMSE test from part 3 and explain your observation?\n",
    "(5 points)"
   ]
  },
  {
   "cell_type": "code",
   "execution_count": 46,
   "metadata": {},
   "outputs": [
    {
     "data": {
      "text/html": [
       "<div>\n",
       "<style scoped>\n",
       "    .dataframe tbody tr th:only-of-type {\n",
       "        vertical-align: middle;\n",
       "    }\n",
       "\n",
       "    .dataframe tbody tr th {\n",
       "        vertical-align: top;\n",
       "    }\n",
       "\n",
       "    .dataframe thead th {\n",
       "        text-align: right;\n",
       "    }\n",
       "</style>\n",
       "<table border=\"1\" class=\"dataframe\">\n",
       "  <thead>\n",
       "    <tr style=\"text-align: right;\">\n",
       "      <th></th>\n",
       "      <th>actual</th>\n",
       "      <th>prediction10</th>\n",
       "      <th>prediction5</th>\n",
       "    </tr>\n",
       "  </thead>\n",
       "  <tbody>\n",
       "    <tr>\n",
       "      <th>1</th>\n",
       "      <td>0.357677</td>\n",
       "      <td>0.36799</td>\n",
       "      <td>0.369986</td>\n",
       "    </tr>\n",
       "  </tbody>\n",
       "</table>\n",
       "</div>"
      ],
      "text/plain": [
       "     actual  prediction10  prediction5\n",
       "1  0.357677       0.36799     0.369986"
      ]
     },
     "execution_count": 46,
     "metadata": {},
     "output_type": "execute_result"
    }
   ],
   "source": [
    "RSME_compare = pd.DataFrame({'actual':RMSE_test, 'prediction10':RMSE_CV10, 'prediction5':RMSE_CV5}, index=[1])\n",
    "RSME_compare.head()"
   ]
  },
  {
   "cell_type": "markdown",
   "metadata": {},
   "source": [
    "This comparison shows that the actual prediction is quite accurate given the two cross validation predictions are similar "
   ]
  }
 ],
 "metadata": {
  "kernelspec": {
   "display_name": "Python 3",
   "language": "python",
   "name": "python3"
  },
  "language_info": {
   "codemirror_mode": {
    "name": "ipython",
    "version": 3
   },
   "file_extension": ".py",
   "mimetype": "text/x-python",
   "name": "python",
   "nbconvert_exporter": "python",
   "pygments_lexer": "ipython3",
   "version": "3.8.5"
  }
 },
 "nbformat": 4,
 "nbformat_minor": 4
}
