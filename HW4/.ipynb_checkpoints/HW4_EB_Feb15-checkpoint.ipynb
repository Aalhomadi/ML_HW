{
 "cells": [
  {
   "cell_type": "markdown",
   "metadata": {},
   "source": [
    "# Homework 4: Group 1\n",
    "#### Linear Regression (NYC + Boston) "
   ]
  },
  {
   "cell_type": "markdown",
   "metadata": {},
   "source": [
    "#### David Jung, Ryan Voges, Emily Blake, Spencer Powell, Abraham Alhomadi"
   ]
  },
  {
   "cell_type": "code",
   "execution_count": 1,
   "metadata": {},
   "outputs": [],
   "source": [
    "import numpy as np\n",
    "import pandas as pd\n",
    "import matplotlib.pyplot as plt\n",
    "import seaborn as sns\n",
    "import math\n",
    "from sklearn.linear_model import LinearRegression"
   ]
  },
  {
   "cell_type": "code",
   "execution_count": 2,
   "metadata": {},
   "outputs": [],
   "source": [
    "nyc = pd.read_csv(\"nyc-rolling-sales_clean.csv\", sep=\",\")"
   ]
  },
  {
   "cell_type": "code",
   "execution_count": 3,
   "metadata": {},
   "outputs": [],
   "source": [
    "rand_state= 100"
   ]
  },
  {
   "cell_type": "markdown",
   "metadata": {},
   "source": [
    "- 1. Change the type of the feature variables as you see fit!"
   ]
  },
  {
   "cell_type": "code",
   "execution_count": 4,
   "metadata": {},
   "outputs": [
    {
     "name": "stdout",
     "output_type": "stream",
     "text": [
      "<class 'pandas.core.frame.DataFrame'>\n",
      "RangeIndex: 30236 entries, 0 to 30235\n",
      "Data columns (total 18 columns):\n",
      " #   Column                          Non-Null Count  Dtype  \n",
      "---  ------                          --------------  -----  \n",
      " 0   BOROUGH                         30236 non-null  object \n",
      " 1   NEIGHBORHOOD                    30236 non-null  object \n",
      " 2   BUILDING CLASS CATEGORY         30236 non-null  object \n",
      " 3   TAX CLASS AT PRESENT            30236 non-null  object \n",
      " 4   BUILDING CLASS AT PRESENT       30236 non-null  object \n",
      " 5   ZIP CODE                        30236 non-null  int64  \n",
      " 6   RESIDENTIAL UNITS               30236 non-null  int64  \n",
      " 7   COMMERCIAL UNITS                30236 non-null  int64  \n",
      " 8   TOTAL UNITS                     30236 non-null  int64  \n",
      " 9   LAND SQUARE FEET                30236 non-null  float64\n",
      " 10  GROSS SQUARE FEET               30236 non-null  float64\n",
      " 11  YEAR BUILT                      30236 non-null  int64  \n",
      " 12  TAX CLASS AT TIME OF SALE       30236 non-null  int64  \n",
      " 13  BUILDING CLASS AT TIME OF SALE  30236 non-null  object \n",
      " 14  SALE PRICE                      30236 non-null  float64\n",
      " 15  SALE DATE                       30236 non-null  object \n",
      " 16  sale_year                       30236 non-null  int64  \n",
      " 17  sale_month                      30236 non-null  int64  \n",
      "dtypes: float64(3), int64(8), object(7)\n",
      "memory usage: 4.2+ MB\n"
     ]
    }
   ],
   "source": [
    "# Looking at the data to see if any feature variables need to be changed\n",
    "nyc.info()"
   ]
  },
  {
   "cell_type": "code",
   "execution_count": 5,
   "metadata": {},
   "outputs": [
    {
     "name": "stdout",
     "output_type": "stream",
     "text": [
      "BOROUGH 5\n",
      "NEIGHBORHOOD 242\n",
      "BUILDING CLASS CATEGORY 38\n",
      "TAX CLASS AT PRESENT 9\n",
      "BUILDING CLASS AT PRESENT 115\n",
      "ZIP CODE 171\n",
      "RESIDENTIAL UNITS 72\n",
      "COMMERCIAL UNITS 20\n",
      "TOTAL UNITS 74\n",
      "LAND SQUARE FEET 4105\n",
      "GROSS SQUARE FEET 3589\n",
      "YEAR BUILT 137\n",
      "TAX CLASS AT TIME OF SALE 3\n",
      "BUILDING CLASS AT TIME OF SALE 115\n",
      "SALE PRICE 4848\n",
      "SALE DATE 327\n",
      "sale_year 2\n",
      "sale_month 12\n"
     ]
    }
   ],
   "source": [
    "for col in nyc.columns:\n",
    "    print(col, nyc[col].nunique())"
   ]
  },
  {
   "cell_type": "code",
   "execution_count": 6,
   "metadata": {},
   "outputs": [],
   "source": [
    "# Changing variables to categorical\n",
    "categorical = [\"BOROUGH\", \"NEIGHBORHOOD\", \"BUILDING CLASS CATEGORY\", \"TAX CLASS AT PRESENT\"]"
   ]
  },
  {
   "cell_type": "code",
   "execution_count": 7,
   "metadata": {},
   "outputs": [
    {
     "name": "stdout",
     "output_type": "stream",
     "text": [
      "['BOROUGH', 'NEIGHBORHOOD', 'BUILDING CLASS CATEGORY', 'TAX CLASS AT PRESENT', 'BUILDING CLASS AT PRESENT', 'ZIP CODE', 'YEAR BUILT', 'TAX CLASS AT TIME OF SALE', 'BUILDING CLASS AT TIME OF SALE', 'sale_year', 'sale_month']\n"
     ]
    }
   ],
   "source": [
    "categoricals = list(nyc.drop(['RESIDENTIAL UNITS', 'COMMERCIAL UNITS', 'TOTAL UNITS', 'LAND SQUARE FEET', 'GROSS SQUARE FEET', 'SALE PRICE', 'SALE DATE'], axis=1).columns)\n",
    "print(categoricals)       "
   ]
  },
  {
   "cell_type": "code",
   "execution_count": 8,
   "metadata": {},
   "outputs": [],
   "source": [
    "nyc['SALE DATE'] = pd.to_datetime(nyc['SALE DATE'], errors='coerce')"
   ]
  },
  {
   "cell_type": "code",
   "execution_count": 9,
   "metadata": {},
   "outputs": [
    {
     "data": {
      "text/html": [
       "<div>\n",
       "<style scoped>\n",
       "    .dataframe tbody tr th:only-of-type {\n",
       "        vertical-align: middle;\n",
       "    }\n",
       "\n",
       "    .dataframe tbody tr th {\n",
       "        vertical-align: top;\n",
       "    }\n",
       "\n",
       "    .dataframe thead th {\n",
       "        text-align: right;\n",
       "    }\n",
       "</style>\n",
       "<table border=\"1\" class=\"dataframe\">\n",
       "  <thead>\n",
       "    <tr style=\"text-align: right;\">\n",
       "      <th>sale_year</th>\n",
       "      <th>2016</th>\n",
       "      <th>2017</th>\n",
       "    </tr>\n",
       "    <tr>\n",
       "      <th>sale_month</th>\n",
       "      <th></th>\n",
       "      <th></th>\n",
       "    </tr>\n",
       "  </thead>\n",
       "  <tbody>\n",
       "    <tr>\n",
       "      <th>1</th>\n",
       "      <td>0</td>\n",
       "      <td>2432</td>\n",
       "    </tr>\n",
       "    <tr>\n",
       "      <th>2</th>\n",
       "      <td>0</td>\n",
       "      <td>2323</td>\n",
       "    </tr>\n",
       "    <tr>\n",
       "      <th>3</th>\n",
       "      <td>0</td>\n",
       "      <td>2782</td>\n",
       "    </tr>\n",
       "    <tr>\n",
       "      <th>4</th>\n",
       "      <td>0</td>\n",
       "      <td>2344</td>\n",
       "    </tr>\n",
       "    <tr>\n",
       "      <th>5</th>\n",
       "      <td>0</td>\n",
       "      <td>2565</td>\n",
       "    </tr>\n",
       "    <tr>\n",
       "      <th>6</th>\n",
       "      <td>0</td>\n",
       "      <td>2931</td>\n",
       "    </tr>\n",
       "    <tr>\n",
       "      <th>7</th>\n",
       "      <td>0</td>\n",
       "      <td>2328</td>\n",
       "    </tr>\n",
       "    <tr>\n",
       "      <th>8</th>\n",
       "      <td>0</td>\n",
       "      <td>1937</td>\n",
       "    </tr>\n",
       "    <tr>\n",
       "      <th>9</th>\n",
       "      <td>2807</td>\n",
       "      <td>0</td>\n",
       "    </tr>\n",
       "    <tr>\n",
       "      <th>10</th>\n",
       "      <td>2373</td>\n",
       "      <td>0</td>\n",
       "    </tr>\n",
       "    <tr>\n",
       "      <th>11</th>\n",
       "      <td>2545</td>\n",
       "      <td>0</td>\n",
       "    </tr>\n",
       "    <tr>\n",
       "      <th>12</th>\n",
       "      <td>2869</td>\n",
       "      <td>0</td>\n",
       "    </tr>\n",
       "  </tbody>\n",
       "</table>\n",
       "</div>"
      ],
      "text/plain": [
       "sale_year   2016  2017\n",
       "sale_month            \n",
       "1              0  2432\n",
       "2              0  2323\n",
       "3              0  2782\n",
       "4              0  2344\n",
       "5              0  2565\n",
       "6              0  2931\n",
       "7              0  2328\n",
       "8              0  1937\n",
       "9           2807     0\n",
       "10          2373     0\n",
       "11          2545     0\n",
       "12          2869     0"
      ]
     },
     "execution_count": 9,
     "metadata": {},
     "output_type": "execute_result"
    }
   ],
   "source": [
    "nyc['sale_year'] = pd.DatetimeIndex(nyc['SALE DATE']).year.astype(\"category\")\n",
    "nyc['sale_month'] = pd.DatetimeIndex(nyc['SALE DATE']).month.astype(\"category\")\n",
    "pd.crosstab(nyc['sale_month'], nyc['sale_year'])"
   ]
  },
  {
   "cell_type": "code",
   "execution_count": 10,
   "metadata": {},
   "outputs": [],
   "source": [
    "for col in categoricals:\n",
    "    nyc[col]=nyc[col].astype(\"category\")"
   ]
  },
  {
   "cell_type": "code",
   "execution_count": 11,
   "metadata": {},
   "outputs": [
    {
     "name": "stdout",
     "output_type": "stream",
     "text": [
      "<class 'pandas.core.frame.DataFrame'>\n",
      "RangeIndex: 30236 entries, 0 to 30235\n",
      "Data columns (total 18 columns):\n",
      " #   Column                          Non-Null Count  Dtype         \n",
      "---  ------                          --------------  -----         \n",
      " 0   BOROUGH                         30236 non-null  category      \n",
      " 1   NEIGHBORHOOD                    30236 non-null  category      \n",
      " 2   BUILDING CLASS CATEGORY         30236 non-null  category      \n",
      " 3   TAX CLASS AT PRESENT            30236 non-null  category      \n",
      " 4   BUILDING CLASS AT PRESENT       30236 non-null  category      \n",
      " 5   ZIP CODE                        30236 non-null  category      \n",
      " 6   RESIDENTIAL UNITS               30236 non-null  int64         \n",
      " 7   COMMERCIAL UNITS                30236 non-null  int64         \n",
      " 8   TOTAL UNITS                     30236 non-null  int64         \n",
      " 9   LAND SQUARE FEET                30236 non-null  float64       \n",
      " 10  GROSS SQUARE FEET               30236 non-null  float64       \n",
      " 11  YEAR BUILT                      30236 non-null  category      \n",
      " 12  TAX CLASS AT TIME OF SALE       30236 non-null  category      \n",
      " 13  BUILDING CLASS AT TIME OF SALE  30236 non-null  category      \n",
      " 14  SALE PRICE                      30236 non-null  float64       \n",
      " 15  SALE DATE                       30236 non-null  datetime64[ns]\n",
      " 16  sale_year                       30236 non-null  category      \n",
      " 17  sale_month                      30236 non-null  category      \n",
      "dtypes: category(11), datetime64[ns](1), float64(3), int64(3)\n",
      "memory usage: 2.1 MB\n"
     ]
    }
   ],
   "source": [
    "nyc.info()"
   ]
  },
  {
   "cell_type": "markdown",
   "metadata": {},
   "source": [
    "2. Define your target variable as target= log(SALE PRICE) and add it to your data\n",
    "frame. Explain why this transformation would boost the performance of your\n",
    "linear model?"
   ]
  },
  {
   "cell_type": "code",
   "execution_count": 12,
   "metadata": {},
   "outputs": [],
   "source": [
    "nyc[\"LOG(SALE PRICE)\"]= np.log(nyc[\"SALE PRICE\"])\n"
   ]
  },
  {
   "cell_type": "code",
   "execution_count": 13,
   "metadata": {},
   "outputs": [
    {
     "name": "stderr",
     "output_type": "stream",
     "text": [
      "/Users/emilyblake/opt/anaconda3/lib/python3.8/site-packages/seaborn/distributions.py:2551: FutureWarning: `distplot` is a deprecated function and will be removed in a future version. Please adapt your code to use either `displot` (a figure-level function with similar flexibility) or `histplot` (an axes-level function for histograms).\n",
      "  warnings.warn(msg, FutureWarning)\n"
     ]
    },
    {
     "data": {
      "text/plain": [
       "<AxesSubplot:xlabel='SALE PRICE', ylabel='Density'>"
      ]
     },
     "execution_count": 13,
     "metadata": {},
     "output_type": "execute_result"
    },
    {
     "data": {
      "image/png": "[encoded data removed]",
      "text/plain": [
       "<Figure size 432x288 with 1 Axes>"
      ]
     },
     "metadata": {
      "needs_background": "light"
     },
     "output_type": "display_data"
    }
   ],
   "source": [
    "sns.distplot(nyc[\"SALE PRICE\"])"
   ]
  },
  {
   "cell_type": "code",
   "execution_count": 14,
   "metadata": {},
   "outputs": [
    {
     "name": "stderr",
     "output_type": "stream",
     "text": [
      "/Users/emilyblake/opt/anaconda3/lib/python3.8/site-packages/seaborn/distributions.py:2551: FutureWarning: `distplot` is a deprecated function and will be removed in a future version. Please adapt your code to use either `displot` (a figure-level function with similar flexibility) or `histplot` (an axes-level function for histograms).\n",
      "  warnings.warn(msg, FutureWarning)\n"
     ]
    },
    {
     "data": {
      "text/plain": [
       "<AxesSubplot:xlabel='LOG(SALE PRICE)', ylabel='Density'>"
      ]
     },
     "execution_count": 14,
     "metadata": {},
     "output_type": "execute_result"
    },
    {
     "data": {
      "image/png": "[encoded data removed]",
      "text/plain": [
       "<Figure size 432x288 with 1 Axes>"
      ]
     },
     "metadata": {
      "needs_background": "light"
     },
     "output_type": "display_data"
    }
   ],
   "source": [
    "sns.distplot(nyc[\"LOG(SALE PRICE)\"])"
   ]
  },
  {
   "cell_type": "markdown",
   "metadata": {},
   "source": [
    "- The log transformation of \"SALE PRICE\" fixed for some of the skewedness in the orginal data. Our linear model will now be a better fit. "
   ]
  },
  {
   "cell_type": "markdown",
   "metadata": {},
   "source": [
    "3. Define your feature space (X). You can pick as many features as possible! it's your call!"
   ]
  },
  {
   "cell_type": "code",
   "execution_count": 15,
   "metadata": {},
   "outputs": [],
   "source": [
    "# Defining LOG(SALE PRICE) as y variable and dropping redundant variables for our x variable\n",
    "y = nyc['LOG(SALE PRICE)']\n",
    "X = nyc.drop(['LOG(SALE PRICE)', 'ZIP CODE', 'BUILDING CLASS CATEGORY','TAX CLASS AT PRESENT','BUILDING CLASS AT PRESENT', 'RESIDENTIAL UNITS', 'COMMERCIAL UNITS','TAX CLASS AT TIME OF SALE', 'BUILDING CLASS AT TIME OF SALE','SALE DATE'], axis=1)"
   ]
  },
  {
   "cell_type": "markdown",
   "metadata": {},
   "source": [
    "4. Use get dummies( drop_first=True ) function from pandas package to make the\n",
    "categorical variables into dummy variables. How many features you have now?\n",
    "wow! welcome to Machine Learning."
   ]
  },
  {
   "cell_type": "code",
   "execution_count": 16,
   "metadata": {},
   "outputs": [],
   "source": [
    "X1 = pd.get_dummies(X, drop_first=True)"
   ]
  },
  {
   "cell_type": "code",
   "execution_count": 17,
   "metadata": {},
   "outputs": [
    {
     "name": "stdout",
     "output_type": "stream",
     "text": [
      "<class 'pandas.core.frame.DataFrame'>\n",
      "RangeIndex: 30236 entries, 0 to 30235\n",
      "Columns: 397 entries, TOTAL UNITS to sale_month_12\n",
      "dtypes: float64(3), int64(1), uint8(393)\n",
      "memory usage: 12.3 MB\n"
     ]
    }
   ],
   "source": [
    "X1.info()"
   ]
  },
  {
   "cell_type": "markdown",
   "metadata": {},
   "source": [
    "5. Split the data into test (30%) and train set (70%)"
   ]
  },
  {
   "cell_type": "code",
   "execution_count": 18,
   "metadata": {},
   "outputs": [
    {
     "data": {
      "text/plain": [
       "0.7"
      ]
     },
     "execution_count": 18,
     "metadata": {},
     "output_type": "execute_result"
    }
   ],
   "source": [
    "from sklearn.model_selection import train_test_split\n",
    "\n",
    "X1_train, X_test, y_train, y_test = train_test_split(X1, y, test_size=0.3, random_state=rand_state)\n",
    "\n",
    "\n",
    "np.round(len(X1_train)/len(X),3)"
   ]
  },
  {
   "cell_type": "code",
   "execution_count": 19,
   "metadata": {},
   "outputs": [
    {
     "data": {
      "text/html": [
       "<div>\n",
       "<style scoped>\n",
       "    .dataframe tbody tr th:only-of-type {\n",
       "        vertical-align: middle;\n",
       "    }\n",
       "\n",
       "    .dataframe tbody tr th {\n",
       "        vertical-align: top;\n",
       "    }\n",
       "\n",
       "    .dataframe thead th {\n",
       "        text-align: right;\n",
       "    }\n",
       "</style>\n",
       "<table border=\"1\" class=\"dataframe\">\n",
       "  <thead>\n",
       "    <tr style=\"text-align: right;\">\n",
       "      <th></th>\n",
       "      <th>TOTAL UNITS</th>\n",
       "      <th>LAND SQUARE FEET</th>\n",
       "      <th>GROSS SQUARE FEET</th>\n",
       "      <th>SALE PRICE</th>\n",
       "      <th>BOROUGH_Brooklyn</th>\n",
       "      <th>BOROUGH_Manhattan</th>\n",
       "      <th>BOROUGH_Queens</th>\n",
       "      <th>BOROUGH_Staten Island</th>\n",
       "      <th>NEIGHBORHOOD_ALPHABET CITY</th>\n",
       "      <th>NEIGHBORHOOD_ANNADALE</th>\n",
       "      <th>...</th>\n",
       "      <th>sale_month_3</th>\n",
       "      <th>sale_month_4</th>\n",
       "      <th>sale_month_5</th>\n",
       "      <th>sale_month_6</th>\n",
       "      <th>sale_month_7</th>\n",
       "      <th>sale_month_8</th>\n",
       "      <th>sale_month_9</th>\n",
       "      <th>sale_month_10</th>\n",
       "      <th>sale_month_11</th>\n",
       "      <th>sale_month_12</th>\n",
       "    </tr>\n",
       "  </thead>\n",
       "  <tbody>\n",
       "    <tr>\n",
       "      <th>24048</th>\n",
       "      <td>1</td>\n",
       "      <td>5002.0</td>\n",
       "      <td>1273.0</td>\n",
       "      <td>512000.0</td>\n",
       "      <td>0</td>\n",
       "      <td>0</td>\n",
       "      <td>1</td>\n",
       "      <td>0</td>\n",
       "      <td>0</td>\n",
       "      <td>0</td>\n",
       "      <td>...</td>\n",
       "      <td>0</td>\n",
       "      <td>0</td>\n",
       "      <td>0</td>\n",
       "      <td>0</td>\n",
       "      <td>0</td>\n",
       "      <td>0</td>\n",
       "      <td>0</td>\n",
       "      <td>1</td>\n",
       "      <td>0</td>\n",
       "      <td>0</td>\n",
       "    </tr>\n",
       "    <tr>\n",
       "      <th>7036</th>\n",
       "      <td>3</td>\n",
       "      <td>2200.0</td>\n",
       "      <td>2900.0</td>\n",
       "      <td>621132.0</td>\n",
       "      <td>1</td>\n",
       "      <td>0</td>\n",
       "      <td>0</td>\n",
       "      <td>0</td>\n",
       "      <td>0</td>\n",
       "      <td>0</td>\n",
       "      <td>...</td>\n",
       "      <td>0</td>\n",
       "      <td>0</td>\n",
       "      <td>0</td>\n",
       "      <td>0</td>\n",
       "      <td>1</td>\n",
       "      <td>0</td>\n",
       "      <td>0</td>\n",
       "      <td>0</td>\n",
       "      <td>0</td>\n",
       "      <td>0</td>\n",
       "    </tr>\n",
       "    <tr>\n",
       "      <th>19239</th>\n",
       "      <td>2</td>\n",
       "      <td>2200.0</td>\n",
       "      <td>1648.0</td>\n",
       "      <td>290000.0</td>\n",
       "      <td>0</td>\n",
       "      <td>0</td>\n",
       "      <td>1</td>\n",
       "      <td>0</td>\n",
       "      <td>0</td>\n",
       "      <td>0</td>\n",
       "      <td>...</td>\n",
       "      <td>0</td>\n",
       "      <td>0</td>\n",
       "      <td>0</td>\n",
       "      <td>0</td>\n",
       "      <td>0</td>\n",
       "      <td>1</td>\n",
       "      <td>0</td>\n",
       "      <td>0</td>\n",
       "      <td>0</td>\n",
       "      <td>0</td>\n",
       "    </tr>\n",
       "    <tr>\n",
       "      <th>26389</th>\n",
       "      <td>1</td>\n",
       "      <td>8160.0</td>\n",
       "      <td>2080.0</td>\n",
       "      <td>950000.0</td>\n",
       "      <td>0</td>\n",
       "      <td>0</td>\n",
       "      <td>0</td>\n",
       "      <td>1</td>\n",
       "      <td>0</td>\n",
       "      <td>0</td>\n",
       "      <td>...</td>\n",
       "      <td>0</td>\n",
       "      <td>0</td>\n",
       "      <td>0</td>\n",
       "      <td>0</td>\n",
       "      <td>0</td>\n",
       "      <td>0</td>\n",
       "      <td>0</td>\n",
       "      <td>0</td>\n",
       "      <td>0</td>\n",
       "      <td>0</td>\n",
       "    </tr>\n",
       "    <tr>\n",
       "      <th>5888</th>\n",
       "      <td>1</td>\n",
       "      <td>2400.0</td>\n",
       "      <td>924.0</td>\n",
       "      <td>250000.0</td>\n",
       "      <td>1</td>\n",
       "      <td>0</td>\n",
       "      <td>0</td>\n",
       "      <td>0</td>\n",
       "      <td>0</td>\n",
       "      <td>0</td>\n",
       "      <td>...</td>\n",
       "      <td>0</td>\n",
       "      <td>0</td>\n",
       "      <td>0</td>\n",
       "      <td>0</td>\n",
       "      <td>0</td>\n",
       "      <td>0</td>\n",
       "      <td>0</td>\n",
       "      <td>0</td>\n",
       "      <td>0</td>\n",
       "      <td>0</td>\n",
       "    </tr>\n",
       "  </tbody>\n",
       "</table>\n",
       "<p>5 rows × 397 columns</p>\n",
       "</div>"
      ],
      "text/plain": [
       "       TOTAL UNITS  LAND SQUARE FEET  GROSS SQUARE FEET  SALE PRICE  \\\n",
       "24048            1            5002.0             1273.0    512000.0   \n",
       "7036             3            2200.0             2900.0    621132.0   \n",
       "19239            2            2200.0             1648.0    290000.0   \n",
       "26389            1            8160.0             2080.0    950000.0   \n",
       "5888             1            2400.0              924.0    250000.0   \n",
       "\n",
       "       BOROUGH_Brooklyn  BOROUGH_Manhattan  BOROUGH_Queens  \\\n",
       "24048                 0                  0               1   \n",
       "7036                  1                  0               0   \n",
       "19239                 0                  0               1   \n",
       "26389                 0                  0               0   \n",
       "5888                  1                  0               0   \n",
       "\n",
       "       BOROUGH_Staten Island  NEIGHBORHOOD_ALPHABET CITY  \\\n",
       "24048                      0                           0   \n",
       "7036                       0                           0   \n",
       "19239                      0                           0   \n",
       "26389                      1                           0   \n",
       "5888                       0                           0   \n",
       "\n",
       "       NEIGHBORHOOD_ANNADALE  ...  sale_month_3  sale_month_4  sale_month_5  \\\n",
       "24048                      0  ...             0             0             0   \n",
       "7036                       0  ...             0             0             0   \n",
       "19239                      0  ...             0             0             0   \n",
       "26389                      0  ...             0             0             0   \n",
       "5888                       0  ...             0             0             0   \n",
       "\n",
       "       sale_month_6  sale_month_7  sale_month_8  sale_month_9  sale_month_10  \\\n",
       "24048             0             0             0             0              1   \n",
       "7036              0             1             0             0              0   \n",
       "19239             0             0             1             0              0   \n",
       "26389             0             0             0             0              0   \n",
       "5888              0             0             0             0              0   \n",
       "\n",
       "       sale_month_11  sale_month_12  \n",
       "24048              0              0  \n",
       "7036               0              0  \n",
       "19239              0              0  \n",
       "26389              0              0  \n",
       "5888               0              0  \n",
       "\n",
       "[5 rows x 397 columns]"
      ]
     },
     "execution_count": 19,
     "metadata": {},
     "output_type": "execute_result"
    }
   ],
   "source": [
    "X1_train.head()"
   ]
  },
  {
   "cell_type": "markdown",
   "metadata": {},
   "source": [
    "6. Use LinearRegression() model from Sklearn package to train the model. Do the\n",
    "followings: (15 points)\n",
    "    1. Save the predicted values for the test set in y hat test. (5 points)\n",
    "    2. Construct a data frame named log predictions which has 3 columns: y test, y hat test , resid.(5 points)\n",
    "    3. Report the RMSE test (RMSE in the test set) (5 points)"
   ]
  },
  {
   "cell_type": "code",
   "execution_count": 20,
   "metadata": {},
   "outputs": [],
   "source": [
    "nyc_model = LinearRegression()"
   ]
  },
  {
   "cell_type": "code",
   "execution_count": 21,
   "metadata": {},
   "outputs": [
    {
     "data": {
      "text/plain": [
       "LinearRegression()"
      ]
     },
     "execution_count": 21,
     "metadata": {},
     "output_type": "execute_result"
    }
   ],
   "source": [
    "nyc_model.fit(X1_train, y_train)"
   ]
  },
  {
   "cell_type": "code",
   "execution_count": 22,
   "metadata": {},
   "outputs": [],
   "source": [
    "y_hat_test = nyc_model.predict(X_test)"
   ]
  },
  {
   "cell_type": "code",
   "execution_count": 23,
   "metadata": {},
   "outputs": [
    {
     "data": {
      "text/html": [
       "<div>\n",
       "<style scoped>\n",
       "    .dataframe tbody tr th:only-of-type {\n",
       "        vertical-align: middle;\n",
       "    }\n",
       "\n",
       "    .dataframe tbody tr th {\n",
       "        vertical-align: top;\n",
       "    }\n",
       "\n",
       "    .dataframe thead th {\n",
       "        text-align: right;\n",
       "    }\n",
       "</style>\n",
       "<table border=\"1\" class=\"dataframe\">\n",
       "  <thead>\n",
       "    <tr style=\"text-align: right;\">\n",
       "      <th></th>\n",
       "      <th>actuals</th>\n",
       "      <th>predictions</th>\n",
       "      <th>resid</th>\n",
       "    </tr>\n",
       "  </thead>\n",
       "  <tbody>\n",
       "    <tr>\n",
       "      <th>16736</th>\n",
       "      <td>13.710150</td>\n",
       "      <td>13.540465</td>\n",
       "      <td>0.169685</td>\n",
       "    </tr>\n",
       "    <tr>\n",
       "      <th>12420</th>\n",
       "      <td>13.810498</td>\n",
       "      <td>13.647229</td>\n",
       "      <td>0.163270</td>\n",
       "    </tr>\n",
       "    <tr>\n",
       "      <th>7342</th>\n",
       "      <td>13.915176</td>\n",
       "      <td>13.659585</td>\n",
       "      <td>0.255591</td>\n",
       "    </tr>\n",
       "    <tr>\n",
       "      <th>8301</th>\n",
       "      <td>14.118775</td>\n",
       "      <td>13.850070</td>\n",
       "      <td>0.268705</td>\n",
       "    </tr>\n",
       "    <tr>\n",
       "      <th>5879</th>\n",
       "      <td>12.611538</td>\n",
       "      <td>12.769676</td>\n",
       "      <td>-0.158138</td>\n",
       "    </tr>\n",
       "  </tbody>\n",
       "</table>\n",
       "</div>"
      ],
      "text/plain": [
       "         actuals  predictions     resid\n",
       "16736  13.710150    13.540465  0.169685\n",
       "12420  13.810498    13.647229  0.163270\n",
       "7342   13.915176    13.659585  0.255591\n",
       "8301   14.118775    13.850070  0.268705\n",
       "5879   12.611538    12.769676 -0.158138"
      ]
     },
     "execution_count": 23,
     "metadata": {},
     "output_type": "execute_result"
    }
   ],
   "source": [
    "nyc_predictions = pd.DataFrame({'actuals':y_test, 'predictions':y_hat_test, 'resid': y_test - y_hat_test})\n",
    "nyc_predictions.head()"
   ]
  },
  {
   "cell_type": "code",
   "execution_count": 24,
   "metadata": {},
   "outputs": [
    {
     "data": {
      "text/plain": [
       "0.121"
      ]
     },
     "execution_count": 24,
     "metadata": {},
     "output_type": "execute_result"
    }
   ],
   "source": [
    "MSE_test = np.mean(np.square(nyc_predictions['resid']))\n",
    "np.round(MSE_test,3)"
   ]
  },
  {
   "cell_type": "code",
   "execution_count": 25,
   "metadata": {},
   "outputs": [
    {
     "data": {
      "text/plain": [
       "0.347"
      ]
     },
     "execution_count": 25,
     "metadata": {},
     "output_type": "execute_result"
    }
   ],
   "source": [
    "RMSE_test = np.sqrt(MSE_test)\n",
    "np.round(RMSE_test,3)"
   ]
  },
  {
   "cell_type": "markdown",
   "metadata": {},
   "source": [
    "7. Estimate the RMSE test using K-Fold Cross Validation technique (try K=5 and\n",
    "K=10) and name them as RMSE CV5 and RMSE CV10. (15 points)"
   ]
  },
  {
   "cell_type": "code",
   "execution_count": 26,
   "metadata": {},
   "outputs": [],
   "source": [
    "from sklearn.model_selection import cross_val_score\n",
    "import sklearn.metrics"
   ]
  },
  {
   "cell_type": "code",
   "execution_count": 27,
   "metadata": {},
   "outputs": [],
   "source": [
    "my_estimator = LinearRegression()"
   ]
  },
  {
   "cell_type": "code",
   "execution_count": 28,
   "metadata": {},
   "outputs": [],
   "source": [
    "NMSE10 = cross_val_score(estimator=my_estimator, X=X1_train, y=y_train, cv=10, scoring=\"neg_mean_squared_error\")"
   ]
  },
  {
   "cell_type": "code",
   "execution_count": 29,
   "metadata": {},
   "outputs": [
    {
     "data": {
      "text/plain": [
       "array([0.13683158, 0.10989184, 0.12778914, 0.12810251, 0.13238291,\n",
       "       0.10369797, 0.1493583 , 0.17956683, 0.13497129, 0.12932033])"
      ]
     },
     "execution_count": 29,
     "metadata": {},
     "output_type": "execute_result"
    }
   ],
   "source": [
    "MSE10= -NMSE10\n",
    "MSE10"
   ]
  },
  {
   "cell_type": "code",
   "execution_count": 30,
   "metadata": {},
   "outputs": [
    {
     "data": {
      "text/plain": [
       "0.133"
      ]
     },
     "execution_count": 30,
     "metadata": {},
     "output_type": "execute_result"
    }
   ],
   "source": [
    "MSE_CV10 = np.mean(MSE10)\n",
    "np.round(MSE_CV10,3)"
   ]
  },
  {
   "cell_type": "code",
   "execution_count": 31,
   "metadata": {},
   "outputs": [
    {
     "data": {
      "text/plain": [
       "array([0.36990753, 0.33149939, 0.35747607, 0.35791411, 0.36384463,\n",
       "       0.32202169, 0.38646902, 0.42375327, 0.36738439, 0.35961136])"
      ]
     },
     "execution_count": 31,
     "metadata": {},
     "output_type": "execute_result"
    }
   ],
   "source": [
    "RMSE10 = np.sqrt(MSE10)\n",
    "RMSE10"
   ]
  },
  {
   "cell_type": "code",
   "execution_count": 32,
   "metadata": {},
   "outputs": [
    {
     "data": {
      "text/plain": [
       "0.364"
      ]
     },
     "execution_count": 32,
     "metadata": {},
     "output_type": "execute_result"
    }
   ],
   "source": [
    "RMSE_CV10 = np.mean(RMSE10)\n",
    "np.round(RMSE_CV10,3)"
   ]
  },
  {
   "cell_type": "code",
   "execution_count": 33,
   "metadata": {},
   "outputs": [],
   "source": [
    "NMSE5 = cross_val_score(estimator=my_estimator, X=X1_train, y=y_train, cv=5, scoring=\"neg_mean_squared_error\")"
   ]
  },
  {
   "cell_type": "code",
   "execution_count": 34,
   "metadata": {},
   "outputs": [
    {
     "data": {
      "text/plain": [
       "array([0.12399725, 0.12730298, 0.12029923, 0.16878646, 0.13234041])"
      ]
     },
     "execution_count": 34,
     "metadata": {},
     "output_type": "execute_result"
    }
   ],
   "source": [
    "MSE5= -NMSE5\n",
    "MSE5"
   ]
  },
  {
   "cell_type": "code",
   "execution_count": 35,
   "metadata": {},
   "outputs": [
    {
     "data": {
      "text/plain": [
       "0.135"
      ]
     },
     "execution_count": 35,
     "metadata": {},
     "output_type": "execute_result"
    }
   ],
   "source": [
    "MSE_CV5 = np.mean(MSE5)\n",
    "np.round(MSE_CV5,3)"
   ]
  },
  {
   "cell_type": "code",
   "execution_count": 36,
   "metadata": {},
   "outputs": [
    {
     "data": {
      "text/plain": [
       "array([0.35213243, 0.35679544, 0.34684179, 0.41083629, 0.36378621])"
      ]
     },
     "execution_count": 36,
     "metadata": {},
     "output_type": "execute_result"
    }
   ],
   "source": [
    "RMSE5 = np.sqrt(MSE5)\n",
    "RMSE5"
   ]
  },
  {
   "cell_type": "code",
   "execution_count": 37,
   "metadata": {},
   "outputs": [
    {
     "data": {
      "text/plain": [
       "0.366"
      ]
     },
     "execution_count": 37,
     "metadata": {},
     "output_type": "execute_result"
    }
   ],
   "source": [
    "RMSE_CV5 = np.mean(RMSE5)\n",
    "np.round(RMSE_CV5,3)"
   ]
  },
  {
   "cell_type": "markdown",
   "metadata": {},
   "source": [
    "8. Compare RMSE CV with RMSE test from part 3 and explain your observation?\n",
    "(5 points)"
   ]
  },
  {
   "cell_type": "code",
   "execution_count": 38,
   "metadata": {},
   "outputs": [
    {
     "data": {
      "text/html": [
       "<div>\n",
       "<style scoped>\n",
       "    .dataframe tbody tr th:only-of-type {\n",
       "        vertical-align: middle;\n",
       "    }\n",
       "\n",
       "    .dataframe tbody tr th {\n",
       "        vertical-align: top;\n",
       "    }\n",
       "\n",
       "    .dataframe thead th {\n",
       "        text-align: right;\n",
       "    }\n",
       "</style>\n",
       "<table border=\"1\" class=\"dataframe\">\n",
       "  <thead>\n",
       "    <tr style=\"text-align: right;\">\n",
       "      <th></th>\n",
       "      <th>actual</th>\n",
       "      <th>prediction10</th>\n",
       "      <th>prediction5</th>\n",
       "    </tr>\n",
       "  </thead>\n",
       "  <tbody>\n",
       "    <tr>\n",
       "      <th>1</th>\n",
       "      <td>0.347449</td>\n",
       "      <td>0.363988</td>\n",
       "      <td>0.366078</td>\n",
       "    </tr>\n",
       "  </tbody>\n",
       "</table>\n",
       "</div>"
      ],
      "text/plain": [
       "     actual  prediction10  prediction5\n",
       "1  0.347449      0.363988     0.366078"
      ]
     },
     "execution_count": 38,
     "metadata": {},
     "output_type": "execute_result"
    }
   ],
   "source": [
    "RSME_compare = pd.DataFrame({'actual':RMSE_test, 'prediction10':RMSE_CV10, 'prediction5':RMSE_CV5}, index=[1])\n",
    "RSME_compare.head()"
   ]
  },
  {
   "cell_type": "markdown",
   "metadata": {},
   "source": [
    "This comparison shows that the actual prediction is quite accurate given the two cross validation predictions are similar "
   ]
  },
  {
   "cell_type": "markdown",
   "metadata": {},
   "source": [
    "# Question 2"
   ]
  },
  {
   "cell_type": "code",
   "execution_count": 39,
   "metadata": {},
   "outputs": [],
   "source": [
    "df_poly = pd.read_csv(\"boston_polynomial.csv\", sep=\",\")"
   ]
  },
  {
   "cell_type": "markdown",
   "metadata": {},
   "source": [
    "1. Define x= np.array(df_poly['LSTAT']) and  y= np.array(df_poly['price']). Draw a scatter plot for price vs LSTAT using x and y. (5 points)"
   ]
  },
  {
   "cell_type": "code",
   "execution_count": 40,
   "metadata": {},
   "outputs": [],
   "source": [
    "x=np.array(df_poly['LSTAT'])\n",
    "y=np.array(df_poly['price'])"
   ]
  },
  {
   "cell_type": "code",
   "execution_count": 41,
   "metadata": {},
   "outputs": [
    {
     "data": {
      "text/plain": [
       "Text(0.5, 1.0, 'price vs LSTAT')"
      ]
     },
     "execution_count": 41,
     "metadata": {},
     "output_type": "execute_result"
    },
    {
     "data": {
      "image/png": "[encoded data removed]",
      "text/plain": [
       "<Figure size 432x288 with 1 Axes>"
      ]
     },
     "metadata": {
      "needs_background": "light"
     },
     "output_type": "display_data"
    }
   ],
   "source": [
    "plt.scatter(x,y)\n",
    "plt.title(\"price vs LSTAT\")"
   ]
  },
  {
   "cell_type": "markdown",
   "metadata": {},
   "source": [
    "2. Import PolynomialFeatures class from sklearn.preprocessing. Now fit_transform your x and call it X_poly. Set polynomial degree = 5. "
   ]
  },
  {
   "cell_type": "code",
   "execution_count": 42,
   "metadata": {},
   "outputs": [],
   "source": [
    "from sklearn.preprocessing import PolynomialFeatures as pf"
   ]
  },
  {
   "cell_type": "code",
   "execution_count": 48,
   "metadata": {},
   "outputs": [],
   "source": [
    "poly = pf(degree =5)"
   ]
  },
  {
   "cell_type": "code",
   "execution_count": 49,
   "metadata": {},
   "outputs": [
    {
     "data": {
      "text/plain": [
       "array([4.98, 9.14, 4.03, 2.94, 5.33])"
      ]
     },
     "execution_count": 49,
     "metadata": {},
     "output_type": "execute_result"
    }
   ],
   "source": [
    "type(x)\n",
    "x[0:5]"
   ]
  },
  {
   "cell_type": "code",
   "execution_count": 53,
   "metadata": {},
   "outputs": [],
   "source": [
    " boston = pd.DataFrame(poly.fit_transform(x.reshape(-1,1)))"
   ]
  },
  {
   "cell_type": "markdown",
   "metadata": {},
   "source": [
    "3. Split the data into test (30%) and train set (70%) "
   ]
  },
  {
   "cell_type": "code",
   "execution_count": 51,
   "metadata": {},
   "outputs": [],
   "source": [
    "bost_model = LinearRegression()"
   ]
  },
  {
   "cell_type": "code",
   "execution_count": 54,
   "metadata": {},
   "outputs": [],
   "source": [
    "X_train, X_test, y_train, y_test = train_test_split(boston, y, test_size=0.3, random_state=100)"
   ]
  },
  {
   "cell_type": "markdown",
   "metadata": {},
   "source": [
    "4. Use LinearRegression() model from Sklearn package to train the model. Do the followings: (15 points)\n",
    "- Save the predicted values for the test set in y_hat_test. (5 points)\n",
    "- Construct a data frame named predictions which has 3 columns. y_test, y_hat_test , resid.(5 points)\n",
    "- Report the RMSE_test (RMSE in the test set)  (5 points)"
   ]
  },
  {
   "cell_type": "code",
   "execution_count": 56,
   "metadata": {},
   "outputs": [
    {
     "data": {
      "text/plain": [
       "LinearRegression()"
      ]
     },
     "execution_count": 56,
     "metadata": {},
     "output_type": "execute_result"
    }
   ],
   "source": [
    "bost_model.fit(X_train, y_train)"
   ]
  },
  {
   "cell_type": "code",
   "execution_count": 57,
   "metadata": {},
   "outputs": [],
   "source": [
    "y_hat_te = bost_model.predict(X_test)"
   ]
  },
  {
   "cell_type": "code",
   "execution_count": 58,
   "metadata": {},
   "outputs": [
    {
     "data": {
      "text/html": [
       "<div>\n",
       "<style scoped>\n",
       "    .dataframe tbody tr th:only-of-type {\n",
       "        vertical-align: middle;\n",
       "    }\n",
       "\n",
       "    .dataframe tbody tr th {\n",
       "        vertical-align: top;\n",
       "    }\n",
       "\n",
       "    .dataframe thead th {\n",
       "        text-align: right;\n",
       "    }\n",
       "</style>\n",
       "<table border=\"1\" class=\"dataframe\">\n",
       "  <thead>\n",
       "    <tr style=\"text-align: right;\">\n",
       "      <th></th>\n",
       "      <th>y_test</th>\n",
       "      <th>y_hat_test</th>\n",
       "      <th>resid</th>\n",
       "    </tr>\n",
       "  </thead>\n",
       "  <tbody>\n",
       "    <tr>\n",
       "      <th>0</th>\n",
       "      <td>34.6</td>\n",
       "      <td>27.114768</td>\n",
       "      <td>7.485232</td>\n",
       "    </tr>\n",
       "    <tr>\n",
       "      <th>1</th>\n",
       "      <td>31.5</td>\n",
       "      <td>37.217467</td>\n",
       "      <td>-5.717467</td>\n",
       "    </tr>\n",
       "    <tr>\n",
       "      <th>2</th>\n",
       "      <td>20.6</td>\n",
       "      <td>23.184036</td>\n",
       "      <td>-2.584036</td>\n",
       "    </tr>\n",
       "    <tr>\n",
       "      <th>3</th>\n",
       "      <td>14.5</td>\n",
       "      <td>20.155145</td>\n",
       "      <td>-5.655145</td>\n",
       "    </tr>\n",
       "    <tr>\n",
       "      <th>4</th>\n",
       "      <td>16.2</td>\n",
       "      <td>21.151035</td>\n",
       "      <td>-4.951035</td>\n",
       "    </tr>\n",
       "  </tbody>\n",
       "</table>\n",
       "</div>"
      ],
      "text/plain": [
       "   y_test  y_hat_test     resid\n",
       "0    34.6   27.114768  7.485232\n",
       "1    31.5   37.217467 -5.717467\n",
       "2    20.6   23.184036 -2.584036\n",
       "3    14.5   20.155145 -5.655145\n",
       "4    16.2   21.151035 -4.951035"
      ]
     },
     "execution_count": 58,
     "metadata": {},
     "output_type": "execute_result"
    }
   ],
   "source": [
    "df_poly_predictions = pd.DataFrame({'y_test':y_test, 'y_hat_test':y_hat_te, 'resid': y_test - y_hat_te})\n",
    "df_poly_predictions.head()"
   ]
  },
  {
   "cell_type": "code",
   "execution_count": 66,
   "metadata": {},
   "outputs": [
    {
     "data": {
      "text/plain": [
       "37.82"
      ]
     },
     "execution_count": 66,
     "metadata": {},
     "output_type": "execute_result"
    }
   ],
   "source": [
    "error_te= y_test - y_hat_te\n",
    "MSE_test = np.mean(np.square(error_te))\n",
    "round(MSE_test,2)"
   ]
  },
  {
   "cell_type": "code",
   "execution_count": 67,
   "metadata": {},
   "outputs": [
    {
     "data": {
      "text/plain": [
       "22.25"
      ]
     },
     "execution_count": 67,
     "metadata": {},
     "output_type": "execute_result"
    }
   ],
   "source": [
    "error_tr = y_train - y_hat_tr\n",
    "MSE_train = np.mean(np.square(error_tr))\n",
    "round(MSE_train,2)"
   ]
  },
  {
   "cell_type": "code",
   "execution_count": 59,
   "metadata": {},
   "outputs": [
    {
     "data": {
      "text/plain": [
       "numpy.ndarray"
      ]
     },
     "execution_count": 59,
     "metadata": {},
     "output_type": "execute_result"
    }
   ],
   "source": [
    "y_hat_tr = bost_model.predict(X_train)\n",
    "type(y_hat_tr)"
   ]
  },
  {
   "cell_type": "code",
   "execution_count": 62,
   "metadata": {},
   "outputs": [
    {
     "data": {
      "text/html": [
       "<div>\n",
       "<style scoped>\n",
       "    .dataframe tbody tr th:only-of-type {\n",
       "        vertical-align: middle;\n",
       "    }\n",
       "\n",
       "    .dataframe tbody tr th {\n",
       "        vertical-align: top;\n",
       "    }\n",
       "\n",
       "    .dataframe thead th {\n",
       "        text-align: right;\n",
       "    }\n",
       "</style>\n",
       "<table border=\"1\" class=\"dataframe\">\n",
       "  <thead>\n",
       "    <tr style=\"text-align: right;\">\n",
       "      <th></th>\n",
       "      <th>x</th>\n",
       "      <th>y_hat_tr</th>\n",
       "    </tr>\n",
       "  </thead>\n",
       "  <tbody>\n",
       "    <tr>\n",
       "      <th>0</th>\n",
       "      <td>10.29</td>\n",
       "      <td>22.043959</td>\n",
       "    </tr>\n",
       "    <tr>\n",
       "      <th>1</th>\n",
       "      <td>8.94</td>\n",
       "      <td>23.340042</td>\n",
       "    </tr>\n",
       "    <tr>\n",
       "      <th>2</th>\n",
       "      <td>18.03</td>\n",
       "      <td>16.515933</td>\n",
       "    </tr>\n",
       "    <tr>\n",
       "      <th>3</th>\n",
       "      <td>4.56</td>\n",
       "      <td>33.526057</td>\n",
       "    </tr>\n",
       "    <tr>\n",
       "      <th>4</th>\n",
       "      <td>9.62</td>\n",
       "      <td>22.633724</td>\n",
       "    </tr>\n",
       "  </tbody>\n",
       "</table>\n",
       "</div>"
      ],
      "text/plain": [
       "       x   y_hat_tr\n",
       "0  10.29  22.043959\n",
       "1   8.94  23.340042\n",
       "2  18.03  16.515933\n",
       "3   4.56  33.526057\n",
       "4   9.62  22.633724"
      ]
     },
     "execution_count": 62,
     "metadata": {},
     "output_type": "execute_result"
    }
   ],
   "source": [
    "prediction_tr =pd.DataFrame(np.c_[X_train[1],y_hat_tr], columns=['x','y_hat_tr'])\n",
    "prediction_tr.head()"
   ]
  },
  {
   "cell_type": "markdown",
   "metadata": {},
   "source": [
    "5. Estimate the RMSE_test using K-Fold Cross Validation technique (K=5 only) and name it as RMSE_CV5"
   ]
  },
  {
   "cell_type": "code",
   "execution_count": null,
   "metadata": {},
   "outputs": [],
   "source": []
  }
 ],
 "metadata": {
  "kernelspec": {
   "display_name": "Python 3",
   "language": "python",
   "name": "python3"
  },
  "language_info": {
   "codemirror_mode": {
    "name": "ipython",
    "version": 3
   },
   "file_extension": ".py",
   "mimetype": "text/x-python",
   "name": "python",
   "nbconvert_exporter": "python",
   "pygments_lexer": "ipython3",
   "version": "3.8.5"
  }
 },
 "nbformat": 4,
 "nbformat_minor": 4
}
